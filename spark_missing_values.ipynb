{
 "cells": [
  {
   "cell_type": "code",
   "execution_count": 1,
   "id": "39900a27-f231-4734-a1af-6ffddccc7f9d",
   "metadata": {},
   "outputs": [],
   "source": [
    "from pyspark.sql import SparkSession"
   ]
  },
  {
   "cell_type": "code",
   "execution_count": 2,
   "id": "d2204b24-7be5-4970-ac91-c09130c471a2",
   "metadata": {},
   "outputs": [],
   "source": [
    "spark = SparkSession.builder.appName(\"missing_data\").getOrCreate()"
   ]
  },
  {
   "cell_type": "code",
   "execution_count": 6,
   "id": "6c87bd6a-a603-4c0a-aacb-5fafdaf7016f",
   "metadata": {},
   "outputs": [],
   "source": [
    "df = spark.read.csv(\"ContainsNull.csv\", inferSchema=True, header=True)"
   ]
  },
  {
   "cell_type": "code",
   "execution_count": 7,
   "id": "fe22fd05-c13a-44ea-9586-a8267bb27c50",
   "metadata": {},
   "outputs": [
    {
     "name": "stdout",
     "output_type": "stream",
     "text": [
      "+----+-----+-----+\n",
      "|  Id| Name|Sales|\n",
      "+----+-----+-----+\n",
      "|emp1| John| NULL|\n",
      "|emp2| NULL| NULL|\n",
      "|emp3| NULL|345.0|\n",
      "|emp4|Cindy|456.0|\n",
      "+----+-----+-----+\n",
      "\n"
     ]
    }
   ],
   "source": [
    "df.show()"
   ]
  },
  {
   "cell_type": "code",
   "execution_count": 8,
   "id": "c44e7b17-1bc3-4fee-ab5a-a632775efdd1",
   "metadata": {},
   "outputs": [
    {
     "name": "stdout",
     "output_type": "stream",
     "text": [
      "+----+-----+-----+\n",
      "|  Id| Name|Sales|\n",
      "+----+-----+-----+\n",
      "|emp4|Cindy|456.0|\n",
      "+----+-----+-----+\n",
      "\n"
     ]
    }
   ],
   "source": [
    "### To drop all null values\n",
    "df.na.drop().show()"
   ]
  },
  {
   "cell_type": "code",
   "execution_count": 9,
   "id": "64c6a149-d04c-4ae1-a704-b7af6ced724e",
   "metadata": {},
   "outputs": [
    {
     "name": "stdout",
     "output_type": "stream",
     "text": [
      "+----+-----+-----+\n",
      "|  Id| Name|Sales|\n",
      "+----+-----+-----+\n",
      "|emp1| John| NULL|\n",
      "|emp2| NULL| NULL|\n",
      "|emp3| NULL|345.0|\n",
      "|emp4|Cindy|456.0|\n",
      "+----+-----+-----+\n",
      "\n"
     ]
    }
   ],
   "source": [
    "df.show()"
   ]
  },
  {
   "cell_type": "code",
   "execution_count": 12,
   "id": "650f9d9b-3e95-4bfa-abc1-c766444a73e7",
   "metadata": {},
   "outputs": [
    {
     "name": "stdout",
     "output_type": "stream",
     "text": [
      "+----+-----+-----+\n",
      "|  Id| Name|Sales|\n",
      "+----+-----+-----+\n",
      "|emp1| John| NULL|\n",
      "|emp3| NULL|345.0|\n",
      "|emp4|Cindy|456.0|\n",
      "+----+-----+-----+\n",
      "\n"
     ]
    }
   ],
   "source": [
    "## we can pass thres so that any row which has non null value less than thres will droped\n",
    "df.na.drop(thresh=2).show()"
   ]
  },
  {
   "cell_type": "code",
   "execution_count": 14,
   "id": "5defd46c-914e-4f46-9ac8-0825f16a2ab9",
   "metadata": {},
   "outputs": [
    {
     "name": "stdout",
     "output_type": "stream",
     "text": [
      "+----+-----+-----+\n",
      "|  Id| Name|Sales|\n",
      "+----+-----+-----+\n",
      "|emp4|Cindy|456.0|\n",
      "+----+-----+-----+\n",
      "\n"
     ]
    }
   ],
   "source": [
    "## We can also specify how\n",
    "\n",
    "df.na.drop(how='any').show()"
   ]
  },
  {
   "cell_type": "code",
   "execution_count": 15,
   "id": "6a686edd-3c1b-4b0d-b5e6-df82d9631454",
   "metadata": {},
   "outputs": [
    {
     "name": "stdout",
     "output_type": "stream",
     "text": [
      "+----+-----+-----+\n",
      "|  Id| Name|Sales|\n",
      "+----+-----+-----+\n",
      "|emp1| John| NULL|\n",
      "|emp2| NULL| NULL|\n",
      "|emp3| NULL|345.0|\n",
      "|emp4|Cindy|456.0|\n",
      "+----+-----+-----+\n",
      "\n"
     ]
    }
   ],
   "source": [
    "df.na.drop(how='all').show()"
   ]
  },
  {
   "cell_type": "code",
   "execution_count": 16,
   "id": "4ac363f7-94c0-4ddf-9a2b-938b48888be5",
   "metadata": {},
   "outputs": [
    {
     "name": "stdout",
     "output_type": "stream",
     "text": [
      "+----+--------+-----+\n",
      "|  Id|    Name|Sales|\n",
      "+----+--------+-----+\n",
      "|emp1|    John| NULL|\n",
      "|emp2|Shubhank| NULL|\n",
      "|emp3|Shubhank|345.0|\n",
      "|emp4|   Cindy|456.0|\n",
      "+----+--------+-----+\n",
      "\n"
     ]
    }
   ],
   "source": [
    "## fill is use to fill the null values\n",
    "## if we give String values it fills the string column\n",
    "df.na.fill('Shubhank').show()"
   ]
  },
  {
   "cell_type": "code",
   "execution_count": 17,
   "id": "87c75951-745d-4c37-bbf5-ac7a9e4e5102",
   "metadata": {},
   "outputs": [
    {
     "name": "stdout",
     "output_type": "stream",
     "text": [
      "+----+-----+-----+\n",
      "|  Id| Name|Sales|\n",
      "+----+-----+-----+\n",
      "|emp1| John|  0.0|\n",
      "|emp2| NULL|  0.0|\n",
      "|emp3| NULL|345.0|\n",
      "|emp4|Cindy|456.0|\n",
      "+----+-----+-----+\n",
      "\n"
     ]
    }
   ],
   "source": [
    "## If we pass 0 then is fill the numeric null values\n",
    "\n",
    "df.na.fill(0).show()"
   ]
  },
  {
   "cell_type": "code",
   "execution_count": 20,
   "id": "79c7c2be-341e-48f5-b132-8339b68e37fd",
   "metadata": {},
   "outputs": [
    {
     "name": "stdout",
     "output_type": "stream",
     "text": [
      "+----+--------+-----+\n",
      "|  Id|    Name|Sales|\n",
      "+----+--------+-----+\n",
      "|emp1|    John| NULL|\n",
      "|emp2|Shubhank| NULL|\n",
      "|emp3|Shubhank|345.0|\n",
      "|emp4|   Cindy|456.0|\n",
      "+----+--------+-----+\n",
      "\n"
     ]
    }
   ],
   "source": [
    "## to fill a  subset of columns\n",
    "df.na.fill('Shubhank', subset=['Name']).show()"
   ]
  },
  {
   "cell_type": "code",
   "execution_count": 30,
   "id": "7c791c1d-bea8-4f89-8c74-8d098fe34595",
   "metadata": {},
   "outputs": [
    {
     "data": {
      "text/plain": [
       "400.5"
      ]
     },
     "execution_count": 30,
     "metadata": {},
     "output_type": "execute_result"
    }
   ],
   "source": [
    "df.agg({'Sales':'avg'}).collect()[0][0]"
   ]
  },
  {
   "cell_type": "code",
   "execution_count": 32,
   "id": "d46bfc36-ac86-40fa-ba7a-2afc9876cfff",
   "metadata": {},
   "outputs": [
    {
     "name": "stdout",
     "output_type": "stream",
     "text": [
      "+----+-----+-----+\n",
      "|  Id| Name|Sales|\n",
      "+----+-----+-----+\n",
      "|emp1| John|400.5|\n",
      "|emp2| NULL|400.5|\n",
      "|emp3| NULL|345.0|\n",
      "|emp4|Cindy|456.0|\n",
      "+----+-----+-----+\n",
      "\n"
     ]
    }
   ],
   "source": [
    "## to fill na with avg\n",
    "\n",
    "df.na.fill(df.agg({'Sales':'avg'}).collect()[0][0], subset=['Sales']).show()"
   ]
  },
  {
   "cell_type": "code",
   "execution_count": 33,
   "id": "7e1b3f6f-da2a-4442-a4fe-e7d972b543cd",
   "metadata": {},
   "outputs": [],
   "source": [
    "spark.stop()"
   ]
  }
 ],
 "metadata": {
  "kernelspec": {
   "display_name": "Python 3 (ipykernel)",
   "language": "python",
   "name": "python3"
  },
  "language_info": {
   "codemirror_mode": {
    "name": "ipython",
    "version": 3
   },
   "file_extension": ".py",
   "mimetype": "text/x-python",
   "name": "python",
   "nbconvert_exporter": "python",
   "pygments_lexer": "ipython3",
   "version": "3.11.6"
  }
 },
 "nbformat": 4,
 "nbformat_minor": 5
}
